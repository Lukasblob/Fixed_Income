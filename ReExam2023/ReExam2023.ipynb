{
 "cells": [
  {
   "cell_type": "code",
   "execution_count": 1,
   "metadata": {},
   "outputs": [],
   "source": [
    "import numpy as np\n",
    "from numpy.linalg import solve, inv\n",
    "import matplotlib.pyplot as plt\n",
    "import sys\n",
    "sys.path.append('..')\n",
    "from Code.fixed_income_derivatives_E2024 import *\n",
    "from scipy.optimize import minimize\n",
    "from scipy.stats import norm"
   ]
  },
  {
   "cell_type": "code",
   "execution_count": 2,
   "metadata": {},
   "outputs": [
    {
     "name": "stdout",
     "output_type": "stream",
     "text": [
      "Optimization terminated successfully.\n",
      "         Current function value: 0.000000\n",
      "         Iterations: 218\n",
      "         Function evaluations: 415\n",
      "r0_hat: 0.03180645790736\n",
      "a_hat: 1.993980603937298\n",
      "b_hat: 0.09407203929111235\n",
      "r0_hat2: 0.03403852508971873\n",
      "a_hat2: 0.7894248433773109\n",
      "b_hat2: 0.041515114462899\n"
     ]
    }
   ],
   "source": [
    "#1.a)\n",
    "T = np.array([0.1, 0.25, 0.5, 0.75, 1, 1.5, 2, 3, 4, 5, 7, 10])\n",
    "R = np.array([0.0334, 0.0352, 0.0375, 0.0392, 0.0405, 0.0422, 0.0433, \n",
    "              0.0445, 0.0451, 0.0455, 0.0459, 0.0462])\n",
    "R_star = np.array([0.0352, 0.0361, 0.0374, 0.0387, 0.0397, 0.0415, \n",
    "                   0.0429, 0.0449, 0.0462, 0.0471, 0.0483, 0.0492])\n",
    "sigma = 0.04\n",
    "r0_tilde = 0.038\n",
    "a_tilde = 1.2\n",
    "b_tilde = 0.07\n",
    "params = r0_tilde, a_tilde, b_tilde\n",
    "def f(x):\n",
    "    return fit_vasicek_no_sigma_obj(x, sigma, R, T)\n",
    "res = minimize(f, params, method='Nelder-Mead')\n",
    "r0_hat, a_hat, b_hat = res.x\n",
    "r0_tilde2 = 0.038\n",
    "a_tilde2 = 1.2\n",
    "b_tilde2 = 0.035\n",
    "params = r0_tilde2, a_tilde2, b_tilde2\n",
    "def f2(x):\n",
    "    return fit_vasicek_no_sigma_obj(x, sigma, R_star, T)\n",
    "res2 = minimize(f2, params, method='nelder-mead',options={'xatol': 1e-12,'disp': True})\n",
    "r0_hat2, a_hat2, b_hat2 = res2.x\n",
    "#i)\n",
    "print('r0_hat:', r0_hat)\n",
    "print('a_hat:', a_hat)\n",
    "print('b_hat:', b_hat)\n",
    "print('r0_hat2:', r0_hat2)\n",
    "print('a_hat2:', a_hat2)\n",
    "print('b_hat2:', b_hat2)"
   ]
  },
  {
   "cell_type": "code",
   "execution_count": 3,
   "metadata": {},
   "outputs": [
    {
     "name": "stdout",
     "output_type": "stream",
     "text": [
      "MSE: 2.1849001826715645e-10\n"
     ]
    },
    {
     "data": {
      "image/png": "[encoded data removed]",
      "text/plain": [
       "<Figure size 640x480 with 1 Axes>"
      ]
     },
     "metadata": {},
     "output_type": "display_data"
    }
   ],
   "source": [
    "#ii)\n",
    "R_fit = spot_rate_vasicek(r0_hat, a_hat, b_hat, sigma, T)\n",
    "mse = np.mean((R - R_fit)**2)\n",
    "print('MSE:', mse)\n",
    "plt.plot(T, R, label='Observed')\n",
    "plt.scatter(T, R_fit, label='Fitted', s=20, color='red')\n",
    "plt.xlabel('Maturity')\n",
    "plt.ylabel('Spot Rate')\n",
    "plt.legend()\n",
    "plt.show()"
   ]
  },
  {
   "cell_type": "code",
   "execution_count": 4,
   "metadata": {},
   "outputs": [
    {
     "name": "stdout",
     "output_type": "stream",
     "text": [
      "Swap Rate: 0.04609469913996068\n",
      "Swap Rate2: 0.04809108642865759\n"
     ]
    }
   ],
   "source": [
    "#1.b)\n",
    "#i)\n",
    "T_swap = np.array([0, 0.5, 1, 1.5, 2, 2.5, 3, 3.5, 4, 4.5, 5, 5.5, 6])\n",
    "ZCB_swap = zcb_price_vasicek(r0_hat, a_hat, b_hat, sigma, T_swap)\n",
    "ZCB_swap2 = zcb_price_vasicek(r0_hat2, a_hat2, b_hat2, sigma, T_swap)\n",
    "swap_rate, accrual_factor = swap_rate_from_zcb_prices(0, 0, 6, 0.5, T_swap, ZCB_swap, 0.5)\n",
    "swap_rate2, accrual_factor2 = swap_rate_from_zcb_prices(0, 0, 6, 0.5, T_swap, ZCB_swap2, 0.5)\n",
    "print('Swap Rate:', swap_rate)\n",
    "print('Swap Rate2:', swap_rate2)"
   ]
  },
  {
   "cell_type": "code",
   "execution_count": 5,
   "metadata": {},
   "outputs": [
    {
     "name": "stdout",
     "output_type": "stream",
     "text": [
      "Caplet Prices: [0.         0.         0.00182848 0.00243326 0.0025945  0.00261077\n",
      " 0.00257747 0.00252744 0.0024723  0.00241618 0.00236055 0.00230591\n",
      " 0.00225244]\n",
      "Caplet Price: 0.026379306286245078\n",
      "Caplet Prices2: [0.         0.         0.00260666 0.00394282 0.00461451 0.00494888\n",
      " 0.00509706 0.00513781 0.00511497 0.00505402 0.00497024 0.00487303\n",
      " 0.00476829]\n",
      "Caplet Price2: 0.05112829239703244\n"
     ]
    }
   ],
   "source": [
    "#ii)\n",
    "caplet_prices = caplet_prices_vasicek(sigma, swap_rate, a_hat, T_swap, ZCB_swap)\n",
    "caplet_price = sum(caplet_prices)\n",
    "caplet_prices2 = caplet_prices_vasicek(sigma, swap_rate2, a_hat2, T_swap, ZCB_swap2)\n",
    "caplet_price2 = sum(caplet_prices2)\n",
    "print('Caplet Prices:', caplet_prices)\n",
    "print('Caplet Price:', caplet_price)\n",
    "print('Caplet Prices2:', caplet_prices2)\n",
    "print('Caplet Price2:', caplet_price2)"
   ]
  },
  {
   "cell_type": "code",
   "execution_count": 6,
   "metadata": {},
   "outputs": [],
   "source": [
    "#1.c)\n",
    "#The par swap rate is calculated assuming that the floating leg and fixed leg\n",
    "#have the same value at the start of the swap. \n",
    "#The interest rate swap eliminates all uncertainty about fixed future coupon payments. However,\n",
    "# this option also has no upside in that the investor will not benefit if future 6M EURIBOR fixings\n",
    "# are low. The interest rate cap prevents interest rate payments from becoming very large but retains\n",
    "# the upside that the client will benefit from low future EURIBOR fixings. Therefore, there is nothing\n",
    "# surprising about the fact that choosing the interest rate cap comes at a cost."
   ]
  },
  {
   "cell_type": "code",
   "execution_count": 7,
   "metadata": {},
   "outputs": [],
   "source": [
    "EURIBOR_fixing = [\n",
    "{\"id\": 0,\"instrument\": \"libor\",\"maturity\": 1/2, \"rate\":0.04110}]\n",
    "fra_market = [\n",
    "{\"id\": 1,\"instrument\": \"fra\",\"exercise\": 1/12,\"maturity\": 7/12, \"rate\":  0.04358},\n",
    "{\"id\": 2,\"instrument\": \"fra\",\"exercise\": 2/12,\"maturity\": 8/12, \"rate\":  0.04423},\n",
    "{\"id\": 3,\"instrument\": \"fra\",\"exercise\": 3/12,\"maturity\": 9/12, \"rate\":  0.04484},\n",
    "{\"id\": 4,\"instrument\": \"fra\",\"exercise\": 4/12,\"maturity\": 10/12, \"rate\": 0.04542},\n",
    "{\"id\": 5,\"instrument\": \"fra\",\"exercise\": 5/12,\"maturity\": 11/12, \"rate\": 0.04597},\n",
    "{\"id\": 6,\"instrument\": \"fra\",\"exercise\": 6/12,\"maturity\": 12/12, \"rate\": 0.04649},\n",
    "{\"id\": 7,\"instrument\": \"fra\",\"exercise\": 7/12,\"maturity\": 13/12, \"rate\": 0.04698},\n",
    "{\"id\": 8,\"instrument\": \"fra\",\"exercise\": 8/12,\"maturity\": 14/12, \"rate\": 0.04743},\n",
    "{\"id\": 9,\"instrument\": \"fra\",\"exercise\": 9/12,\"maturity\": 15/12, \"rate\": 0.04787}]\n",
    "swap_market = [\n",
    "{\"id\": 10,\"instrument\": \"swap\",\"maturity\": 2, \"rate\":  0.04723, \"float_freq\": \"semiannual\", \"fixed_freq\": \"semiannual\",\"indices\": []},\n",
    "{\"id\": 11,\"instrument\": \"swap\",\"maturity\": 3, \"rate\":  0.04891, \"float_freq\": \"semiannual\", \"fixed_freq\": \"semiannual\",\"indices\": []},\n",
    "{\"id\": 12,\"instrument\": \"swap\",\"maturity\": 4, \"rate\":  0.05004, \"float_freq\": \"semiannual\", \"fixed_freq\": \"semiannual\",\"indices\": []},\n",
    "{\"id\": 13,\"instrument\": \"swap\",\"maturity\": 5, \"rate\":  0.05084, \"float_freq\": \"semiannual\", \"fixed_freq\": \"semiannual\",\"indices\": []},\n",
    "{\"id\": 14,\"instrument\": \"swap\",\"maturity\": 7, \"rate\":  0.05184, \"float_freq\": \"semiannual\", \"fixed_freq\": \"semiannual\",\"indices\": []},\n",
    "{\"id\": 15,\"instrument\": \"swap\",\"maturity\": 10, \"rate\": 0.05263, \"float_freq\": \"semiannual\", \"fixed_freq\": \"semiannual\",\"indices\": []},\n",
    "{\"id\": 16,\"instrument\": \"swap\",\"maturity\": 15, \"rate\": 0.05325, \"float_freq\": \"semiannual\", \"fixed_freq\": \"semiannual\",\"indices\": []},\n",
    "{\"id\": 17,\"instrument\": \"swap\",\"maturity\": 20, \"rate\": 0.05354, \"float_freq\": \"semiannual\", \"fixed_freq\": \"semiannual\",\"indices\": []},\n",
    "{\"id\": 18,\"instrument\": \"swap\",\"maturity\": 30, \"rate\": 0.05382, \"float_freq\": \"semiannual\", \"fixed_freq\": \"semiannual\",\"indices\": []}]\n",
    "data2 = EURIBOR_fixing + fra_market + swap_market"
   ]
  },
  {
   "cell_type": "code",
   "execution_count": 8,
   "metadata": {},
   "outputs": [],
   "source": [
    "#2.a)\n",
    "EURIBOR_fixing = [\n",
    "{\"id\": 0,\"instrument\": \"libor\",\"maturity\": 1/2, \"rate\":0.04110}]\n",
    "fra_market = [\n",
    "{\"id\": 1,\"instrument\": \"fra\",\"exercise\": 1/12,\"maturity\": 7/12, \"rate\":  0.04358},\n",
    "{\"id\": 2,\"instrument\": \"fra\",\"exercise\": 2/12,\"maturity\": 8/12, \"rate\":  0.03295},\n",
    "{\"id\": 3,\"instrument\": \"fra\",\"exercise\": 3/12,\"maturity\": 9/12, \"rate\":  0.03418},\n",
    "{\"id\": 4,\"instrument\": \"fra\",\"exercise\": 4/12,\"maturity\": 10/12, \"rate\": 0.03531},\n",
    "{\"id\": 5,\"instrument\": \"fra\",\"exercise\": 5/12,\"maturity\": 11/12, \"rate\": 0.03635},\n",
    "{\"id\": 6,\"instrument\": \"fra\",\"exercise\": 6/12,\"maturity\": 12/12, \"rate\": 0.03731},\n",
    "{\"id\": 7,\"instrument\": \"fra\",\"exercise\": 7/12,\"maturity\": 13/12, \"rate\": 0.03819},\n",
    "{\"id\": 8,\"instrument\": \"fra\",\"exercise\": 8/12,\"maturity\": 14/12, \"rate\": 0.03900},\n",
    "{\"id\": 9,\"instrument\": \"fra\",\"exercise\": 9/12,\"maturity\": 15/12, \"rate\": 0.03975}]\n",
    "swap_market = [\n",
    "{\"id\": 10,\"instrument\": \"swap\",\"maturity\": 2, \"rate\":  0.03824, \"float_freq\": \"semiannual\", \"fixed_freq\": \"semiannual\",\"indices\": []},\n",
    "{\"id\": 11,\"instrument\": \"swap\",\"maturity\": 3, \"rate\":  0.04083, \"float_freq\": \"semiannual\", \"fixed_freq\": \"semiannual\",\"indices\": []},\n",
    "{\"id\": 12,\"instrument\": \"swap\",\"maturity\": 4, \"rate\":  0.04242, \"float_freq\": \"semiannual\", \"fixed_freq\": \"semiannual\",\"indices\": []},\n",
    "{\"id\": 13,\"instrument\": \"swap\",\"maturity\": 5, \"rate\":  0.04346, \"float_freq\": \"semiannual\", \"fixed_freq\": \"semiannual\",\"indices\": []},\n",
    "{\"id\": 14,\"instrument\": \"swap\",\"maturity\": 7, \"rate\":  0.04468, \"float_freq\": \"semiannual\", \"fixed_freq\": \"semiannual\",\"indices\": []},\n",
    "{\"id\": 15,\"instrument\": \"swap\",\"maturity\": 10, \"rate\": 0.04561, \"float_freq\": \"semiannual\", \"fixed_freq\": \"semiannual\",\"indices\": []},\n",
    "{\"id\": 16,\"instrument\": \"swap\",\"maturity\": 15, \"rate\": 0.04633, \"float_freq\": \"semiannual\", \"fixed_freq\": \"semiannual\",\"indices\": []},\n",
    "{\"id\": 17,\"instrument\": \"swap\",\"maturity\": 20, \"rate\": 0.04667, \"float_freq\": \"semiannual\", \"fixed_freq\": \"semiannual\",\"indices\": []},\n",
    "{\"id\": 18,\"instrument\": \"swap\",\"maturity\": 30, \"rate\": 0.04700, \"float_freq\": \"semiannual\", \"fixed_freq\": \"semiannual\",\"indices\": []}]\n",
    "data = EURIBOR_fixing + fra_market + swap_market\n",
    "interpolation_options = {\"method\":\"hermite\",\"degree\":2,\"transition\": \"smooth\"}\n",
    "T_fit, R_fit = zcb_curve_fit(data,interpolation_options = interpolation_options)\n",
    "T_6m = np.array([i*0.5 for i in range(0,61)])\n",
    "p_inter, R_inter, f_inter, T_inter = zcb_curve_interpolate(T_6m,T_fit,R_fit,interpolation_options = interpolation_options)\n",
    "T_fit2, R_fit2 = zcb_curve_fit(data2,interpolation_options = interpolation_options)\n",
    "p_inter2, R_inter2, f_inter2, T_inter2 = zcb_curve_interpolate(T_6m,T_fit2,R_fit2,interpolation_options = interpolation_options)"
   ]
  },
  {
   "cell_type": "code",
   "execution_count": 9,
   "metadata": {},
   "outputs": [
    {
     "name": "stdout",
     "output_type": "stream",
     "text": [
      "Spot Rates: [0.0406834  0.03882483 0.04051578 0.04323658 0.04549467 0.04664345\n",
      " 0.04702701]\n",
      "Spot Rates2: [0.0406834  0.04332065 0.04847566 0.05045775 0.05234596 0.05334786\n",
      " 0.05368808]\n"
     ]
    }
   ],
   "source": [
    "#i)\n",
    "T = np.array([0.5, 1, 3, 5, 10, 20, 30])\n",
    "ZCB, spot_rates, _, _ = zcb_curve_interpolate(T, T_fit, R_fit, interpolation_options)\n",
    "ZCB2, spot_rates2, _, _ = zcb_curve_interpolate(T, T_fit2, R_fit2, interpolation_options)\n",
    "print('Spot Rates:', spot_rates)\n",
    "print('Spot Rates2:', spot_rates2)"
   ]
  },
  {
   "cell_type": "code",
   "execution_count": 10,
   "metadata": {},
   "outputs": [
    {
     "data": {
      "image/png": "[encoded data removed]",
      "text/plain": [
       "<Figure size 640x480 with 1 Axes>"
      ]
     },
     "metadata": {},
     "output_type": "display_data"
    }
   ],
   "source": [
    "#ii)\n",
    "plt.scatter(T_inter[1:], R_inter[1:], label='Interpolated', s=5)\n",
    "plt.ylim(0, 0.05)\n",
    "plt.grid()\n",
    "plt.show()"
   ]
  },
  {
   "cell_type": "code",
   "execution_count": 11,
   "metadata": {},
   "outputs": [],
   "source": [
    "#2.b)\n",
    "swap_rates = []\n",
    "for i in range(2, 61):\n",
    "    swap_rate, _ = swap_rate_from_zcb_prices(0, 0, T_6m[i], 0.5, T_6m, p_inter, 0.5)\n",
    "    swap_rates.append(swap_rate)"
   ]
  },
  {
   "cell_type": "code",
   "execution_count": 12,
   "metadata": {},
   "outputs": [
    {
     "data": {
      "image/png": "[encoded data removed]",
      "text/plain": [
       "<Figure size 640x480 with 1 Axes>"
      ]
     },
     "metadata": {},
     "output_type": "display_data"
    }
   ],
   "source": [
    "#i)\n",
    "plt.scatter(T_inter[1:], R_inter[1:], label='Spot rates', s=5)\n",
    "plt.scatter(T_6m[2:], swap_rates, label='Swap Rates', s=5)\n",
    "plt.legend()\n",
    "plt.ylim(0, 0.05)\n",
    "plt.grid()\n",
    "plt.show()"
   ]
  },
  {
   "cell_type": "code",
   "execution_count": 13,
   "metadata": {},
   "outputs": [],
   "source": [
    "#ii)\n",
    "#They are very close"
   ]
  },
  {
   "cell_type": "code",
   "execution_count": 14,
   "metadata": {},
   "outputs": [],
   "source": [
    "#iii)\n",
    "# Zero coupon spot rates and par swap rates for same maturities are almost always very close.\n",
    "# The main reason for this result is that a swap and a zero coupon bond on average, over the\n",
    "# life of these securities, have very similar cashflows. A zero coupon bond pays no coupons and\n",
    "# the net coupon to a swap being the difference between a fixed and a floating rate is on average\n",
    "# also close to zero. A zero coupon bond pays the whole notional at maturity to the lender, and\n",
    "# though there is no exchange of notional in practice, a swap also works on a notional repaid at\n",
    "# maturity."
   ]
  },
  {
   "cell_type": "code",
   "execution_count": 15,
   "metadata": {},
   "outputs": [
    {
     "name": "stdout",
     "output_type": "stream",
     "text": [
      "PnL: 0.01482160410028848\n",
      "PnL2: -0.022647025751646385\n",
      "Price Now: 0.014821604100288488\n",
      "Price Now2: -0.022647025751646427\n"
     ]
    }
   ],
   "source": [
    "#2.c)\n",
    "#i)\n",
    "swap_rate, accrual_factor = swap_rate_from_zcb_prices(0, 0, 6, 0.5, T_6m, p_inter, 0.5)\n",
    "PnL = accrual_factor * (0.047 - swap_rate)\n",
    "swap_rate2, accrual_factor2 = swap_rate_from_zcb_prices(0, 0, 6, 0.5, T_6m, p_inter2, 0.5)\n",
    "PnL2 = accrual_factor2 * (0.047 - swap_rate2)\n",
    "price_now = - (1-p_inter[12]) + sum(p_inter[1:13]*0.5*0.047)\n",
    "price_now2 = - (1-p_inter2[12]) + sum(p_inter2[1:13]*0.5*0.047)\n",
    "print('PnL:', PnL)\n",
    "print('PnL2:', PnL2)\n",
    "print('Price Now:', price_now)\n",
    "print('Price Now2:', price_now2)"
   ]
  },
  {
   "cell_type": "code",
   "execution_count": 16,
   "metadata": {},
   "outputs": [],
   "source": [
    "#ii)\n",
    "# A receiver swap is positioned for falling interest rates and since the colleague lost money on\n",
    "# his position, we can only assume that rates have risen since he entered into the swap. The 6Y\n",
    "# par swap rate is now 0.05135 and hence, the par swap rate is today higher than the par swap\n",
    "# rate of 0.04700 when the colleague entered into the swap. This corresponds to a rate increase\n",
    "# of roughly 41 bps which when multiplied by the accrual factor slightly above 5 does indeed\n",
    "# yield a little more than 200 bps."
   ]
  },
  {
   "cell_type": "code",
   "execution_count": 17,
   "metadata": {},
   "outputs": [],
   "source": [
    "#3.a)\n",
    "T = np.array([0.5, 1, 1.5, 2, 2.5, 3, 3.5, 4, 4.5, 5, 5.5, 6, 6.5, 7])\n",
    "p = np.array([0.98314916, 0.96478677, 0.94539738, 0.92535353, 0.90493951, \n",
    "              0.88437071, 0.86380916, 0.84337571, 0.8231596, 0.80322594, \n",
    "              0.78362142, 0.76437872, 0.74551992, 0.72705911])\n",
    "K_offset = np.array([-300, -250, -200, -150, -100, -50, 0, 50, 100, 150, \n",
    "                     200, 250, 300])\n",
    "pi_swaption = np.array([0.12256859, 0.10253932, 0.08273803, 0.0633625, \n",
    "                        0.04480655, 0.02793572, 0.0145331, 0.00650867, \n",
    "                        0.0030062, 0.00158778, 0.00094974, 0.00062285, \n",
    "                        0.00043427])\n",
    "swap_rate, accrual_factor = swap_rate_from_zcb_prices(0, 2, 7, 0.5, T, p, 0.5)"
   ]
  },
  {
   "cell_type": "code",
   "execution_count": 18,
   "metadata": {},
   "outputs": [
    {
     "name": "stdout",
     "output_type": "stream",
     "text": [
      "Swap Rate: 0.0487002882976103\n"
     ]
    }
   ],
   "source": [
    "#i)\n",
    "print('Swap Rate:', swap_rate)"
   ]
  },
  {
   "cell_type": "code",
   "execution_count": 19,
   "metadata": {},
   "outputs": [
    {
     "data": {
      "image/png": "[encoded data removed]",
      "text/plain": [
       "<Figure size 640x480 with 1 Axes>"
      ]
     },
     "metadata": {},
     "output_type": "display_data"
    }
   ],
   "source": [
    "#ii)\n",
    "K = swap_rate + K_offset/10000\n",
    "iv_swaption = []\n",
    "for i in range(len(K)):\n",
    "    iv = black_swaption_iv(pi_swaption[i], 2, K[i], accrual_factor, swap_rate, iv0=0.25)\n",
    "    iv_swaption.append(iv)\n",
    "plt.scatter(K_offset, iv_swaption, label='Implied Volatility', s=5)\n",
    "plt.xlabel('Offset')\n",
    "plt.ylabel('Implied Volatility')\n",
    "plt.legend()\n",
    "plt.grid()"
   ]
  },
  {
   "cell_type": "code",
   "execution_count": 20,
   "metadata": {},
   "outputs": [],
   "source": [
    "#iii)\n",
    "# There is indeed a ’smirk’ in implied volatilities clearly indicating that market prices are not\n",
    "# equivalent to what would arise in a Black’s model. The pricing measure chosen by the market\n",
    "# is not compatible with the 2Y 5Y forward par swap rate following a log-normal distribution.\n",
    "# The distribution implied by the measure chosen by the market has more fat tails and displays\n",
    "# more left skewness than that of a log-normal random variable. This is a finding that is very\n",
    "# much consistent with typical market behavior"
   ]
  },
  {
   "cell_type": "code",
   "execution_count": 23,
   "metadata": {},
   "outputs": [
    {
     "name": "stdout",
     "output_type": "stream",
     "text": [
      "Optimization terminated successfully.\n",
      "         Current function value: 0.000000\n",
      "         Iterations: 354\n",
      "         Function evaluations: 570\n",
      "sigma0_hat:  0.04948540771434625\n",
      "beta_hat:,  0.6966107058738245\n",
      "v_hat:,  0.6497140735722688\n",
      "rho_hat -0.31905025986980884\n"
     ]
    }
   ],
   "source": [
    "#3.b)\n",
    "sigma0_tilde = 0.06\n",
    "beta_tilde = 0.5\n",
    "v_tilde = 0.45\n",
    "rho_tilde = -0.2\n",
    "params = sigma0_tilde, beta_tilde, v_tilde, rho_tilde\n",
    "def f(x):\n",
    "    y = fit_sabr_obj(x, iv_swaption, K, 2, swap_rate)\n",
    "    return y\n",
    "res = minimize(f, params, method='nelder-mead', options={'disp': True})\n",
    "sigma0_hat, beta_hat, v_hat, rho_hat = res.x\n",
    "#i)\n",
    "print(\"sigma0_hat: \", sigma0_hat)\n",
    "print(\"beta_hat:, \", beta_hat)\n",
    "print(\"v_hat:, \", v_hat)\n",
    "print(\"rho_hat\", rho_hat)"
   ]
  },
  {
   "cell_type": "code",
   "execution_count": 25,
   "metadata": {},
   "outputs": [
    {
     "data": {
      "image/png": "[encoded data removed]",
      "text/plain": [
       "<Figure size 640x480 with 1 Axes>"
      ]
     },
     "metadata": {},
     "output_type": "display_data"
    }
   ],
   "source": [
    "#ii)\n",
    "iv_simulated = []\n",
    "for i in range(len(K)):\n",
    "    iv_simulated.append(sigma_sabr(K[i],2,swap_rate, sigma0_hat, beta_hat, v_hat, rho_hat))\n",
    "plt.scatter(K_offset, iv_swaption, s=5, label=\"Black IV\")\n",
    "plt.scatter(K_offset, iv_simulated, s=5, label=\"SABR IV\")\n",
    "plt.legend()\n",
    "plt.show()\n"
   ]
  },
  {
   "cell_type": "code",
   "execution_count": 28,
   "metadata": {},
   "outputs": [
    {
     "name": "stderr",
     "output_type": "stream",
     "text": [
      "/Users/lukasbehr/Documents/Fixed_Income/ReExam2023/../Code/fixed_income_derivatives_E2024.py:1190: RuntimeWarning: invalid value encountered in scalar power\n",
      "  F[m] = F[m-1] + sigma[m-1]*F[m-1]**beta*delta_sqrt*Z[0,m-1]\n"
     ]
    },
    {
     "name": "stdout",
     "output_type": "stream",
     "text": [
      "Digital Option Price: 0.064126999629\n"
     ]
    }
   ],
   "source": [
    "#3.c)\n",
    "#ii)\n",
    "M = 2000\n",
    "N = 10000\n",
    "T = 2\n",
    "simulated_swap_rates = np.zeros(N)\n",
    "for i in range(N):\n",
    "    F, sigma = sabr_simul(swap_rate, sigma0_hat, beta_hat, v_hat, rho_hat, M, T)\n",
    "    simulated_swap_rates[i] = F[-1]\n",
    "digital_option_price = p[3]*np.mean(simulated_swap_rates >= swap_rate + 0.0125)\n",
    "print('Digital Option Price:', digital_option_price)"
   ]
  },
  {
   "cell_type": "code",
   "execution_count": 34,
   "metadata": {},
   "outputs": [],
   "source": [
    "#ii)\n",
    "# The digital option will protect the client against rising interest rates but the pay-off of the\n",
    "# digital option will be 1 no matter how far ITM the option is, so the client’s pay-off won’t be\n",
    "# very high if interest rates rise sharply which, depending on his situation, could be a problem."
   ]
  },
  {
   "cell_type": "code",
   "execution_count": 35,
   "metadata": {},
   "outputs": [],
   "source": [
    "#iii)\n",
    "# The strategy that closest resembles a digital option with a strike 125 bps above the ATMF is\n",
    "# to be long one maturity Kof f set = 100 and short one Kof f set = 150 swaption. The price of such\n",
    "# an instrument would be roughly 14 bps."
   ]
  },
  {
   "cell_type": "code",
   "execution_count": null,
   "metadata": {},
   "outputs": [],
   "source": []
  }
 ],
 "metadata": {
  "kernelspec": {
   "display_name": "Python 3",
   "language": "python",
   "name": "python3"
  },
  "language_info": {
   "codemirror_mode": {
    "name": "ipython",
    "version": 3
   },
   "file_extension": ".py",
   "mimetype": "text/x-python",
   "name": "python",
   "nbconvert_exporter": "python",
   "pygments_lexer": "ipython3",
   "version": "3.11.0"
  }
 },
 "nbformat": 4,
 "nbformat_minor": 2
}
