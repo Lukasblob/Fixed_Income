{
 "cells": [
  {
   "cell_type": "code",
   "execution_count": 1,
   "metadata": {},
   "outputs": [],
   "source": [
    "import numpy as np\n",
    "from numpy.linalg import solve, inv\n",
    "import matplotlib.pyplot as plt\n",
    "import sys\n",
    "sys.path.append('..')\n",
    "from Code.fixed_income_derivatives_E2024 import *\n",
    "from scipy.optimize import minimize"
   ]
  },
  {
   "cell_type": "code",
   "execution_count": 2,
   "metadata": {},
   "outputs": [],
   "source": [
    "#1.b)\n",
    "T = [0.25, 0.5, 0.75, 1, 1.25, 1.5, 1.75, 2]\n",
    "n = 8\n",
    "C = np.zeros([n,len(T)])\n",
    "C[0,:] = [-101.3, 2.55, 0, 102.55, 0, 0, 0, 0]\n",
    "C[1,:] = [0, 102.45, 0, -4.4, 0, 0, 0, -104.4]\n",
    "C[2,:] = [-101.3, 0, 0, 4.9, 0, 0, 0, 104.9]\n",
    "C[3,:] = [7/4, 7/4, 7/4, 100 + 7/4, 0, 0, 0, 0]\n",
    "C[4,:] = [0, 5/2, 0, 5/2, 0, 100 + 5/2, 0, 0]\n",
    "C[5,:] = [0, 0, 0, 6, 0, 0, 0, 100 + 6]\n",
    "C[6,:] = [4.5/4, 4.5/4, 4.5/4, 4.5/4, 4.5/4, 100 + 4.5/4, 0, 0]\n",
    "C[7,:] = [5.5/4, 5.5/4, 5.5/4, 5.5/4, 5.5/4, 5.5/4, 5.5/4, 100 + 5.5/4]\n",
    "pi = np.array([0.79492002, -1.02540877,  2.05066409, 103.02163487, 101.80152680, 104.48120266, 101.10990798, 103.67216735])"
   ]
  },
  {
   "cell_type": "code",
   "execution_count": 3,
   "metadata": {},
   "outputs": [
    {
     "name": "stdout",
     "output_type": "stream",
     "text": [
      "[0.99060312 0.9802517  0.97073639 0.96190516 0.95363276 0.94581595\n",
      " 0.93836974 0.93122426]\n"
     ]
    }
   ],
   "source": [
    "#1.c)\n",
    "T = np.array([5, 11, 17, 23, 29, 35, 41, 47])/24\n",
    "ZCB = solve(C, pi)\n",
    "print(ZCB)"
   ]
  },
  {
   "cell_type": "code",
   "execution_count": 4,
   "metadata": {},
   "outputs": [
    {
     "name": "stdout",
     "output_type": "stream",
     "text": [
      "[0.04531828 0.04351833 0.04192989 0.04052809 0.03929101 0.03819928\n",
      " 0.03723584 0.03638561]\n",
      "[0.         0.04223985 0.03920865 0.03672388 0.0346985  0.03305848\n",
      " 0.03174103 0.03069284]\n"
     ]
    },
    {
     "data": {
      "image/png": "[encoded data removed]",
      "text/plain": [
       "<Figure size 640x480 with 1 Axes>"
      ]
     },
     "metadata": {},
     "output_type": "display_data"
    }
   ],
   "source": [
    "#1.d)\n",
    "R = spot_rates_from_zcb_prices(T, ZCB)\n",
    "forward_rates = forward_libor_rates_from_zcb_prices(T, ZCB)\n",
    "print(R)\n",
    "print(forward_rates)\n",
    "plt.scatter(T, R, label='Spot rates')\n",
    "plt.scatter(T[1:], forward_rates[1:], label='Forward rates')\n",
    "plt.legend()\n",
    "plt.show()"
   ]
  },
  {
   "cell_type": "code",
   "execution_count": 5,
   "metadata": {},
   "outputs": [
    {
     "name": "stdout",
     "output_type": "stream",
     "text": [
      "[  0.86973647  -1.1740026    2.22576323 103.11782696 101.94643885\n",
      " 104.68023231 101.25333922 103.86602576]\n"
     ]
    }
   ],
   "source": [
    "#1.e)\n",
    "R_new = R - 0.001\n",
    "ZCB_new = zcb_prices_from_spot_rates(T, R_new)\n",
    "pi_new = C @ ZCB_new\n",
    "print(pi_new)"
   ]
  },
  {
   "cell_type": "code",
   "execution_count": 6,
   "metadata": {},
   "outputs": [
    {
     "name": "stdout",
     "output_type": "stream",
     "text": [
      "0.7949200199999966\n",
      "0.04469388618153486\n"
     ]
    }
   ],
   "source": [
    "#1.f)\n",
    "PV_fixed = 50*0.051*ZCB[1]+50*0.051*ZCB[3]\n",
    "PV_float = 25*0.052*ZCB[0] + 100*(ZCB[0]-ZCB[3])\n",
    "print(PV_fixed - PV_float)\n",
    "par_swap_rate = PV_float/(100*165/360*ZCB[1]+50*ZCB[3])\n",
    "print(par_swap_rate)"
   ]
  },
  {
   "cell_type": "code",
   "execution_count": 7,
   "metadata": {},
   "outputs": [
    {
     "name": "stdout",
     "output_type": "stream",
     "text": [
      "0.930234610936274\n",
      "0.005866165334439779\n"
     ]
    }
   ],
   "source": [
    "#1.g)\n",
    "accrual_factor = 165/360*ZCB[1]+1/2*ZCB[3]\n",
    "print(accrual_factor)\n",
    "PnL = accrual_factor*(0.051-par_swap_rate)\n",
    "print(PnL)"
   ]
  },
  {
   "cell_type": "code",
   "execution_count": 8,
   "metadata": {},
   "outputs": [],
   "source": [
    "#1.h)\n",
    "#Yes, the PnL is positive, which means that the fixed rate receiver has made a profit. This is because the fixed rate receiver has received a fixed rate that is higher than the par swap rate, which means that the fixed rate receiver has received more money than he has paid out."
   ]
  },
  {
   "cell_type": "code",
   "execution_count": 9,
   "metadata": {},
   "outputs": [
    {
     "name": "stdout",
     "output_type": "stream",
     "text": [
      "103.0523385081963\n"
     ]
    }
   ],
   "source": [
    "#1.i)\n",
    "C_bond = np.array([0, 2.6, 0, 2.6, 0, 2.6, 0, 102.6])\n",
    "bond_price = np.sum(C_bond * ZCB)\n",
    "print(bond_price)"
   ]
  },
  {
   "cell_type": "code",
   "execution_count": 10,
   "metadata": {},
   "outputs": [
    {
     "name": "stdout",
     "output_type": "stream",
     "text": [
      "replicating_portfolio:  [-0.0319491   0.02555447  0.0319491   0.          0.02536585  0.96147572\n",
      "  0.          0.        ]\n",
      "Price:  103.05233850819631\n",
      "Profit:  2.8523385081963113\n"
     ]
    }
   ],
   "source": [
    "#1.j)\n",
    "replicating_portfolio = C_bond @ inv(C)\n",
    "print(\"replicating_portfolio: \", replicating_portfolio)\n",
    "print(\"Price: \", replicating_portfolio @ pi)\n",
    "print(\"Profit: \", replicating_portfolio @ pi - 100.2)"
   ]
  },
  {
   "cell_type": "code",
   "execution_count": 11,
   "metadata": {},
   "outputs": [
    {
     "name": "stdout",
     "output_type": "stream",
     "text": [
      "Replicating portfolio:  [ 3.16642539e-02 -2.55473813e-02 -6.00872086e-02 -3.15519773e-20\n",
      " -2.53658537e-02 -9.33622627e-01 -4.47985138e-18  3.33212174e-18\n",
      "  1.00000000e+00]\n",
      "Price:  -0.00014912740643069355\n",
      "Cash flows:  [ 2.87924531e+00  3.27249339e-12 -5.13381375e-19  1.62829306e-10\n",
      " -4.58165415e-19  0.00000000e+00  4.58166739e-18 -1.07473568e-08]\n"
     ]
    }
   ],
   "source": [
    "#1.k)\n",
    "C_new = np.vstack((C, C_bond))\n",
    "pi_k = np.append(pi, 100.2)\n",
    "def f_to_minimize(x):\n",
    "    h = np.append(x, 1)\n",
    "    return np.sum((np.dot(h, pi_k))**2)\n",
    "def ineq(x):\n",
    "    h = np.append(x, 1)\n",
    "    return (C_new.T@h)[0] - 0\n",
    "def eq(x):\n",
    "    h = np.append(x, 1)\n",
    "    return (C_new.T@h)[1:] - 0\n",
    "constraints = [\n",
    "    {'type': 'ineq', 'fun': ineq},\n",
    "    {'type': 'eq', 'fun': eq}\n",
    "]\n",
    "x0 = np.zeros(8)\n",
    "res = minimize(f_to_minimize, x0, constraints=constraints).x\n",
    "replicating_portfolio_k = np.append(res, 1)\n",
    "print(\"Replicating portfolio: \", replicating_portfolio_k)\n",
    "print(\"Price: \", np.dot(replicating_portfolio_k, pi_k))\n",
    "print(\"Cash flows: \", C_new.T @ replicating_portfolio_k)"
   ]
  },
  {
   "cell_type": "code",
   "execution_count": 12,
   "metadata": {},
   "outputs": [
    {
     "name": "stdout",
     "output_type": "stream",
     "text": [
      "Replicating portfolio:  [ 0.03166424 -0.02554738 -0.06008868  0.         -0.02536585 -0.93362117\n",
      "  0.          0.          1.        ]\n",
      "Price:  0.0\n",
      "Cash flows:  [2.87939584e+00 0.00000000e+00 0.00000000e+00 8.88178420e-16\n",
      " 0.00000000e+00 0.00000000e+00 0.00000000e+00 0.00000000e+00]\n"
     ]
    }
   ],
   "source": [
    "#Second approach\n",
    "#Replicate ZCB[0] without bond. Then scale to price of the profit\n",
    "#From 1.j\n",
    "C_target_k = np.array([1, 0, 0, 0, 0, 0, 0, 0])\n",
    "h = C_target_k @ inv(C)\n",
    "h *= 2.8523385081963113/0.9906031214634187\n",
    "replicating_portfolio_k = np.append(h - replicating_portfolio, 1)\n",
    "print(\"Replicating portfolio: \", replicating_portfolio_k)\n",
    "print(\"Price: \", np.dot(replicating_portfolio_k, pi_k))\n",
    "print(\"Cash flows: \", C_new.T @ replicating_portfolio_k)"
   ]
  },
  {
   "cell_type": "code",
   "execution_count": 21,
   "metadata": {},
   "outputs": [
    {
     "data": {
      "image/png": "[encoded data removed]",
      "text/plain": [
       "<Figure size 640x480 with 1 Axes>"
      ]
     },
     "metadata": {},
     "output_type": "display_data"
    }
   ],
   "source": [
    "#2.a)\n",
    "EURIBOR_fixing = [\n",
    "{\"id\": 0,\"instrument\": \"libor\",\"maturity\": 1/2, \"rate\":0.02750}]\n",
    "fra_market = [\n",
    "{\"id\": 1,\"instrument\": \"fra\",\"exercise\": 1/12,\"maturity\": 7/12, \"rate\": 0.02980},\n",
    "{\"id\": 2,\"instrument\": \"fra\",\"exercise\": 2/12,\"maturity\": 8/12, \"rate\": 0.03122},\n",
    "{\"id\": 3,\"instrument\": \"fra\",\"exercise\": 3/12,\"maturity\": 9/12, \"rate\": 0.03257},\n",
    "{\"id\": 4,\"instrument\": \"fra\",\"exercise\": 4/12,\"maturity\": 10/12, \"rate\": 0.03384},\n",
    "{\"id\": 5,\"instrument\": \"fra\",\"exercise\": 5/12,\"maturity\": 11/12, \"rate\": 0.03504},\n",
    "{\"id\": 6,\"instrument\": \"fra\",\"exercise\": 6/12,\"maturity\": 12/12, \"rate\": 0.03617},\n",
    "{\"id\": 7,\"instrument\": \"fra\",\"exercise\": 7/12,\"maturity\": 13/12, \"rate\": 0.03724},\n",
    "{\"id\": 8,\"instrument\": \"fra\",\"exercise\": 8/12,\"maturity\": 14/12, \"rate\": 0.03825},\n",
    "{\"id\": 9,\"instrument\": \"fra\",\"exercise\": 9/12,\"maturity\": 15/12, \"rate\": 0.03920}]\n",
    "swap_market = [\n",
    "{\"id\": 10,\"instrument\": \"swap\",\"maturity\": 2, \"rate\": 0.03782, \"float_freq\": \"semiannual\", \"fixed_freq\": \"annual\",\"indices\": []},\n",
    "{\"id\": 11,\"instrument\": \"swap\",\"maturity\": 3, \"rate\": 0.04152, \"float_freq\": \"semiannual\", \"fixed_freq\": \"annual\",\"indices\": []},\n",
    "{\"id\": 12,\"instrument\": \"swap\",\"maturity\": 4, \"rate\": 0.04402, \"float_freq\": \"semiannual\", \"fixed_freq\": \"annual\",\"indices\": []},\n",
    "{\"id\": 13,\"instrument\": \"swap\",\"maturity\": 5, \"rate\": 0.04577, \"float_freq\": \"semiannual\", \"fixed_freq\": \"annual\",\"indices\": []},\n",
    "{\"id\": 14,\"instrument\": \"swap\",\"maturity\": 7, \"rate\": 0.04797, \"float_freq\": \"semiannual\", \"fixed_freq\": \"annual\",\"indices\": []},\n",
    "{\"id\": 15,\"instrument\": \"swap\",\"maturity\": 10, \"rate\": 0.04971, \"float_freq\": \"semiannual\", \"fixed_freq\": \"annual\",\"indices\": []},\n",
    "{\"id\": 16,\"instrument\": \"swap\",\"maturity\": 15, \"rate\": 0.05105, \"float_freq\": \"semiannual\", \"fixed_freq\": \"annual\",\"indices\": []},\n",
    "{\"id\": 17,\"instrument\": \"swap\",\"maturity\": 20, \"rate\": 0.05170, \"float_freq\": \"semiannual\", \"fixed_freq\": \"annual\",\"indices\": []},\n",
    "{\"id\": 18,\"instrument\": \"swap\",\"maturity\": 30, \"rate\": 0.05230, \"float_freq\": \"semiannual\", \"fixed_freq\": \"annual\",\"indices\": []}]\n",
    "data = EURIBOR_fixing + fra_market + swap_market\n",
    "\n",
    "#interpolation_options = {\"method\":\"nelson_siegel\",\"transition\": \"smooth\"}\n",
    "interpolation_options = {\"method\":\"hermite\",\"degree\":2,\"transition\": \"smooth\"}\n",
    "T_fit, R_fit = zcb_curve_fit(data,interpolation_options = interpolation_options)\n",
    "T_6m = np.array([i*0.5 for i in range(0,61)])\n",
    "p_inter, R_inter, f_inter, T_inter = zcb_curve_interpolate(T_6m,T_fit,R_fit,interpolation_options = interpolation_options)\n",
    "plt.plot(T_fit, R_fit, label='Fitted curve')\n",
    "plt.scatter(T_inter, R_inter, label='Spot rates')\n",
    "plt.scatter(T_inter[1:], f_inter[1:], label='Forward rates')\n",
    "plt.legend()\n",
    "plt.show()"
   ]
  },
  {
   "cell_type": "code",
   "execution_count": 36,
   "metadata": {},
   "outputs": [
    {
     "name": "stdout",
     "output_type": "stream",
     "text": [
      "Price of bond:  100.71704212519342\n",
      "YTM:  0.04968635467120988\n",
      "Macaulay duration:  7.997950060808084\n",
      "Modified duration:  7.619371277159507\n",
      "Convexity:  73.46537254317197\n"
     ]
    }
   ],
   "source": [
    "#2.b)\n",
    "T = np.arange(0.5, 10.5, 0.5)\n",
    "C = np.zeros(len(T))\n",
    "C[:19] = 2.5\n",
    "C[19] = 102.5\n",
    "pi_2_b = C @ p_inter[1:21]\n",
    "ytm_2_b = ytm(pi_2_b, T, C)\n",
    "macauley_duration_2_b = macauley_duration(pi_2_b, T, C, ytm_2_b)\n",
    "modified_duration_2_b = modified_duration(pi_2_b, T, C, ytm_2_b)\n",
    "convexity_2_b = convexity(pi_2_b, T, C, ytm_2_b)\n",
    "print(\"Price of bond: \", pi_2_b)\n",
    "print(\"YTM: \", ytm_2_b)\n",
    "print(\"Macaulay duration: \", macauley_duration_2_b)\n",
    "print(\"Modified duration: \", modified_duration_2_b)\n",
    "print(\"Convexity: \", convexity_2_b)"
   ]
  },
  {
   "cell_type": "code",
   "execution_count": 29,
   "metadata": {},
   "outputs": [
    {
     "name": "stdout",
     "output_type": "stream",
     "text": [
      "Percentage change by macauley duration:  -0.007619371277159508\n",
      "Percentage change by modified duration:  -0.007619371277159507\n",
      "Percentage change by convexity:  -0.007582638590887921\n"
     ]
    }
   ],
   "source": [
    "#2.c)\n",
    "print(\"Percentage change by macauley duration: \", -macauley_duration_2_b*0.001/(1 + ytm_2_b))\n",
    "print(\"Percentage change by modified duration: \", -modified_duration_2_b*0.001)\n",
    "print(\"Percentage change by convexity: \", convexity_2_b*0.001**2/2 - modified_duration_2_b*0.001)"
   ]
  },
  {
   "cell_type": "code",
   "execution_count": 34,
   "metadata": {},
   "outputs": [
    {
     "name": "stdout",
     "output_type": "stream",
     "text": [
      "Par swap rate:  0.041520418921395665\n",
      "Accrual factor:  2.781667598212273\n"
     ]
    }
   ],
   "source": [
    "#2.d)\n",
    "par_swap_rate = 0.04152\n",
    "par_swap_rate_2_d, accrual_factor_2_d = swap_rate_from_zcb_prices(0, 0, 3, 1, T_inter, p_inter, 0.5)\n",
    "print(\"Par swap rate: \", par_swap_rate_2_d)\n",
    "print(\"Accrual factor: \", accrual_factor_2_d)"
   ]
  },
  {
   "cell_type": "code",
   "execution_count": 35,
   "metadata": {},
   "outputs": [
    {
     "name": "stdout",
     "output_type": "stream",
     "text": [
      "Par swap rate:  0.04970967500840736\n",
      "Accrual factor:  7.828860337866644\n"
     ]
    }
   ],
   "source": [
    "#2.e)\n",
    "par_swap_rate = 0.04971\n",
    "par_swap_rate_2_e, accrual_factor_2_e = swap_rate_from_zcb_prices(0, 0, 10, 1, T_inter, p_inter, 0.5)\n",
    "print(\"Par swap rate: \", par_swap_rate_2_e)\n",
    "print(\"Accrual factor: \", accrual_factor_2_e)"
   ]
  },
  {
   "cell_type": "code",
   "execution_count": null,
   "metadata": {},
   "outputs": [
    {
     "name": "stdout",
     "output_type": "stream",
     "text": [
      "PnL bond:  -0.7984381975015395\n",
      "PnL 3Y:  0.2876760742613048\n",
      "PnL 10Y:  -0.804659544849386\n"
     ]
    }
   ],
   "source": [
    "#2.f)\n",
    "spot_rates_2_f = R_inter + 0.001\n",
    "p_inter_2_f = zcb_prices_from_spot_rates(T_inter, spot_rates_2_f)\n",
    "forward_libor_rates_2_f = forward_libor_rates_from_zcb_prices(T_inter, p_inter_2_f)\n",
    "PnL_2_f_bond = C @ p_inter_2_f[1:21] - pi_2_b\n",
    "swap_rate_2_f_3Y, accrual_factor_2_f_3Y = swap_rate_from_zcb_prices(0, 0, 3, 1, T_inter, p_inter_2_f, 0.5)\n",
    "swap_rate_2_f_10Y, accrual_factor_2_f_10Y = swap_rate_from_zcb_prices(0, 0, 10, 1, T_inter, p_inter_2_f, 0.5)\n",
    "PnL_2_f_3Y = -accrual_factor_2_f_3Y*100*(par_swap_rate_2_d - swap_rate_2_f_3Y)\n",
    "PnL_2_f_10Y = accrual_factor_2_f_10Y*100*(par_swap_rate_2_e - swap_rate_2_f_10Y)\n",
    "print(\"PnL bond: \", PnL_2_f_bond)\n",
    "print(\"PnL 3Y: \", PnL_2_f_3Y)\n",
    "print(\"PnL 10Y: \", PnL_2_f_10Y)"
   ]
  },
  {
   "cell_type": "code",
   "execution_count": 91,
   "metadata": {},
   "outputs": [
    {
     "name": "stdout",
     "output_type": "stream",
     "text": [
      "PnL 3Y:  0.28767607426130404\n",
      "PnL 10Y:  -0.8046595448493932\n",
      "[ 0.   0.5  1.   1.5  2.   2.5  3.   3.5  4.   4.5  5.   5.5  6.   6.5\n",
      "  7.   7.5  8.   8.5  9.   9.5 10.  10.5 11.  11.5 12.  12.5 13.  13.5\n",
      " 14.  14.5 15.  15.5 16.  16.5 17.  17.5 18.  18.5 19.  19.5 20.  20.5\n",
      " 21.  21.5 22.  22.5 23.  23.5 24.  24.5 25.  25.5 26.  26.5 27.  27.5\n",
      " 28.  28.5 29.  29.5 30. ]\n"
     ]
    }
   ],
   "source": [
    "#Second approach\n",
    "forward_libor_rates_2_f_2 = forward_libor_rates_from_zcb_prices(T_inter, p_inter)\n",
    "PnL_2_f_3Y = 0.5*100*np.dot(forward_libor_rates_2_f[1:7], p_inter_2_f[1:7]) - 1*100*par_swap_rate_2_d*np.sum(p_inter_2_f[2:7:2])\n",
    "PnL_2_f_10Y = -0.5*100*np.dot(forward_libor_rates_2_f[1:21], p_inter_2_f[1:21]) + 1*100*par_swap_rate_2_e*np.sum(p_inter_2_f[2:21:2])\n",
    "print(\"PnL 3Y: \", PnL_2_f_3Y)\n",
    "print(\"PnL 10Y: \", PnL_2_f_10Y)\n",
    "print(T_inter)"
   ]
  },
  {
   "cell_type": "code",
   "execution_count": 93,
   "metadata": {},
   "outputs": [
    {
     "name": "stdout",
     "output_type": "stream",
     "text": [
      "Principal:  277.5476547890793\n"
     ]
    }
   ],
   "source": [
    "#2.g)\n",
    "principal_2_g = -PnL_2_f_bond/PnL_2_f_3Y*100\n",
    "print(\"Principal: \", principal_2_g)"
   ]
  },
  {
   "cell_type": "code",
   "execution_count": 94,
   "metadata": {},
   "outputs": [
    {
     "name": "stdout",
     "output_type": "stream",
     "text": [
      "Principal:  -99.22683482875753\n"
     ]
    }
   ],
   "source": [
    "#2.h)\n",
    "principal_2_h = -PnL_2_f_bond/PnL_2_f_10Y*100\n",
    "print(\"Principal: \", principal_2_h)"
   ]
  },
  {
   "cell_type": "code",
   "execution_count": 95,
   "metadata": {},
   "outputs": [
    {
     "name": "stdout",
     "output_type": "stream",
     "text": [
      "Accrual duration factor 3Y:  2.7445375085502413\n",
      "Accrual duration factor 10Y:  0.9781899098774565\n"
     ]
    }
   ],
   "source": [
    "#2.i)\n",
    "accrual_duration_factor_2_i_3Y = modified_duration_2_b/accrual_factor_2_f_3Y\n",
    "accrual_duration_factor_2_i_10Y = modified_duration_2_b/accrual_factor_2_f_10Y\n",
    "print(\"Accrual duration factor 3Y: \", accrual_duration_factor_2_i_3Y)\n",
    "print(\"Accrual duration factor 10Y: \", accrual_duration_factor_2_i_10Y)"
   ]
  },
  {
   "cell_type": "code",
   "execution_count": 98,
   "metadata": {},
   "outputs": [
    {
     "name": "stdout",
     "output_type": "stream",
     "text": [
      "PnL bond:  -0.7733176826399415\n",
      "PnL 3Y:  0.2775391073939861\n",
      "PnL 10Y:  -0.7793380640173504\n"
     ]
    }
   ],
   "source": [
    "#2.j)\n",
    "import copy\n",
    "data_2_j = copy.deepcopy(data)\n",
    "for item in data_2_j:\n",
    "    item['rate'] += 0.001\n",
    "T_fit_2_j, R_fit_2_j = zcb_curve_fit(data_2_j,interpolation_options = interpolation_options)\n",
    "T_6m_2_j = np.array([i*0.5 for i in range(0,61)])\n",
    "p_inter_2_j, R_inter_2_j, f_inter_2_j, T_inter_2_j = zcb_curve_interpolate(T_6m_2_j,T_fit_2_j,R_fit_2_j,interpolation_options = interpolation_options)\n",
    "\n",
    "pi_2_j_bond = C @ p_inter_2_j[1:21]\n",
    "swap_rate_2_j_3Y, accrual_factor_2_j_3Y = swap_rate_from_zcb_prices(0, 0, 3, 1, T_inter_2_j, p_inter_2_j, 0.5)\n",
    "swap_rate_2_j_10Y, accrual_factor_2_j_10Y = swap_rate_from_zcb_prices(0, 0, 10, 1, T_inter_2_j, p_inter_2_j, 0.5)\n",
    "PnL_2_j_bond = C @ p_inter_2_j[1:21] - pi_2_b\n",
    "PnL_2_j_3Y = -accrual_factor_2_j_3Y*100*(par_swap_rate_2_d - swap_rate_2_j_3Y)\n",
    "PnL_2_j_10Y = accrual_factor_2_j_10Y*100*(par_swap_rate_2_e - swap_rate_2_j_10Y)\n",
    "print(\"PnL bond: \", PnL_2_j_bond)\n",
    "print(\"PnL 3Y: \", PnL_2_j_3Y)\n",
    "print(\"PnL 10Y: \", PnL_2_j_10Y)"
   ]
  },
  {
   "cell_type": "code",
   "execution_count": 100,
   "metadata": {},
   "outputs": [
    {
     "name": "stdout",
     "output_type": "stream",
     "text": [
      "Principal 3Y:  278.6337716155307\n"
     ]
    }
   ],
   "source": [
    "#2.k)\n",
    "principal_2_k_3Y = -PnL_2_j_bond/PnL_2_j_3Y*100\n",
    "print(\"Principal 3Y: \", principal_2_k_3Y)"
   ]
  },
  {
   "cell_type": "code",
   "execution_count": 101,
   "metadata": {},
   "outputs": [
    {
     "name": "stdout",
     "output_type": "stream",
     "text": [
      "Principal 10Y:  -99.2275006630146\n"
     ]
    }
   ],
   "source": [
    "#2.l)\n",
    "principal_2_k_10Y = -PnL_2_j_bond/PnL_2_j_10Y*100\n",
    "print(\"Principal 10Y: \", principal_2_k_10Y)"
   ]
  },
  {
   "cell_type": "code",
   "execution_count": 102,
   "metadata": {},
   "outputs": [
    {
     "name": "stdout",
     "output_type": "stream",
     "text": [
      "Accrual duration factor 3Y:  2.7443666586398954\n",
      "Accrual duration factor 10Y:  0.9780241921015275\n"
     ]
    }
   ],
   "source": [
    "#2.m)\n",
    "accrual_duration_factor_2_m_3Y = modified_duration_2_b/accrual_factor_2_j_3Y\n",
    "accrual_duration_factor_2_m_10Y = modified_duration_2_b/accrual_factor_2_j_10Y\n",
    "print(\"Accrual duration factor 3Y: \", accrual_duration_factor_2_m_3Y)\n",
    "print(\"Accrual duration factor 10Y: \", accrual_duration_factor_2_m_10Y)"
   ]
  },
  {
   "cell_type": "code",
   "execution_count": null,
   "metadata": {},
   "outputs": [],
   "source": [
    "#2.n)\n",
    "#There is a larger risk with the 3Y swap since the principal is so high\n"
   ]
  }
 ],
 "metadata": {
  "kernelspec": {
   "display_name": "Python 3",
   "language": "python",
   "name": "python3"
  },
  "language_info": {
   "codemirror_mode": {
    "name": "ipython",
    "version": 3
   },
   "file_extension": ".py",
   "mimetype": "text/x-python",
   "name": "python",
   "nbconvert_exporter": "python",
   "pygments_lexer": "ipython3",
   "version": "3.11.0"
  }
 },
 "nbformat": 4,
 "nbformat_minor": 2
}
